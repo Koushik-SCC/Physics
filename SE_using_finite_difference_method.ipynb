{
  "nbformat": 4,
  "nbformat_minor": 0,
  "metadata": {
    "colab": {
      "name": "QHO_modified.ipynb",
      "provenance": [],
      "collapsed_sections": [],
      "authorship_tag": "ABX9TyPCUrUbrhI+gxqT1vqM3TRJ",
      "include_colab_link": true
    },
    "kernelspec": {
      "name": "python3",
      "display_name": "Python 3"
    },
    "language_info": {
      "name": "python"
    }
  },
  "cells": [
    {
      "cell_type": "markdown",
      "metadata": {
        "id": "view-in-github",
        "colab_type": "text"
      },
      "source": [
        "<a href=\"https://colab.research.google.com/github/Koushik-SCC/Physics/blob/main/SE_using_finite_difference_method.ipynb\" target=\"_parent\"><img src=\"https://colab.research.google.com/assets/colab-badge.svg\" alt=\"Open In Colab\"/></a>"
      ]
    },
    {
      "cell_type": "markdown",
      "source": [
        "Modified SE:\n",
        "$$ \\psi'' + (\\epsilon - V) \\psi = 0 $$\n",
        "\n",
        "Implementing Finite Difference Method, we get the following recurrence relation:\n",
        "$$ \\psi(x+dx) = 2\\psi(x) - \\psi(x-dx) - (\\epsilon - V) \\psi(x) (dx)^2 $$\n",
        "which is\n",
        "$$ \\psi_{i+1} = 2\\psi_i - \\psi_{i-1} - ( \\epsilon - V)\\psi (dx)^2 $$\n",
        "$$ = [2 - (\\epsilon -V)(dx)^2]\\psi_i - \\psi_{i-1} $$"
      ],
      "metadata": {
        "id": "VrMT8O0RYyST"
      }
    },
    {
      "cell_type": "markdown",
      "source": [
        "Here the solution is for Harmonic Oscillator. Therefore, the potential is V = $x^2$ (using proper modification)"
      ],
      "metadata": {
        "id": "0JvohRKwa28o"
      }
    },
    {
      "cell_type": "code",
      "execution_count": 3,
      "metadata": {
        "colab": {
          "base_uri": "https://localhost:8080/",
          "height": 439
        },
        "id": "dL0LNFCDPfTX",
        "outputId": "7520d632-3d35-42ac-df96-17580b91d52d"
      },
      "outputs": [
        {
          "output_type": "stream",
          "name": "stdout",
          "text": [
            "Enter the lenght of the box:5\n",
            "Enter the minimum Energy: 0\n",
            "Enter the maximum Energy: 5\n",
            "[0.9993746088130874, 2.9968714813107895, 4.99186144430999]\n",
            "Energy 0th State: 0.9993746088130874\n",
            "Probability of finding the particle in the interval[0,1] =  1.0\n",
            "Energy 1th State: 2.9968714813107895\n",
            "Probability of finding the particle in the interval[0,1] =  1.0\n",
            "Energy 2th State: 4.99186144430999\n",
            "Probability of finding the particle in the interval[0,1] =  1.0\n"
          ]
        },
        {
          "output_type": "display_data",
          "data": {
            "text/plain": [
              "<Figure size 432x288 with 1 Axes>"
            ],
            "image/png": "[encoded data removed]"
          },
          "metadata": {
            "needs_background": "light"
          }
        }
      ],
      "source": [
        "from scipy.optimize import bisect\n",
        "import numpy as np\n",
        "import matplotlib.pyplot as plt\n",
        "from scipy.integrate import simps\n",
        "L = eval(input('Enter the lenght of the box:'))\n",
        "x, dx = np.linspace(-L,L,101,retstep = True)\n",
        "E_min = eval(input('Enter the minimum Energy: '))\n",
        "E_max = eval(input('Enter the maximum Energy: '))\n",
        "def eigE(E):\n",
        "  y = np.ones(len(x))\n",
        "  y[0], y100 = 0.0,0.0\n",
        "  for i in range(1,100):\n",
        "    #V = x^2  #potential\n",
        "    y[i+1] = (2 - (E - x[i]*x[i])*dx**2)*y[i] - y[i-1]\n",
        "  return (y[-1] - y100)\n",
        "Energies = np.arange(E_min,E_max,0.001)\n",
        "Ef_zeros = [eigE(E) for E in Energies]\n",
        "\n",
        "# Not necessary to plot the few following commads (upto 25)\n",
        "'''\n",
        "plt.plot(Energies,Ef_zeros)\n",
        "plt.xlabel('Energy')\n",
        "plt.ylabel('eigE')\n",
        "plt.axhline(ls='--',color='k')\n",
        "plt.show()\n",
        "'''\n",
        "# After knowing the Eigen Energies\n",
        "def Psi(E,lbc):\n",
        "  y = np.ones(len(x))\n",
        "  y[0] = lbc\n",
        "  for i in range(1,100):\n",
        "    #V = 0  #potential\n",
        "    y[i+1] = (2 - (E - x[i]*x[i])*dx**2)*y[i] - y[i-1]\n",
        "  return y\n",
        "\n",
        "E = E_min\n",
        "Eig_E = []\n",
        "while E < E_max:\n",
        "\tif eigE(E) * eigE(E+0.01) < 1:\n",
        "\t\tEn = bisect(eigE,E,E+0.01)    # Although defined eigE(E), to execute this line I had to define the Psi(E,lbc) function\n",
        "\t\tEig_E.append(En)\n",
        "\tE += 0.01\n",
        "print(Eig_E)\n",
        "\n",
        "for i in range(len(Eig_E)):\n",
        "\ty0 = 0.0 #lbc\n",
        "\tEi = Eig_E[i]\n",
        "\tprint('Energy '+str(i)+'th State:',Ei)\n",
        "\tpsi = Psi(Ei,y0)\n",
        "\tN = 1/np.sqrt(simps(psi*psi,x))\n",
        "\tpsi_normal = N*psi\n",
        "\tplt.plot(x,psi_normal,label = r'$\\Psi_'+str(i)+'$')\n",
        "\tplt.legend()\n",
        "\tplt.axhline(ls = '--',color='k')\n",
        "\tplt.axvline(ls = '--',color='k')\n",
        "\tplt.plot(x,x**2) # plotting the potential\n",
        "\tplt.ylim(-5,5)\n",
        "\tprint('Probability of finding the particle in the interval[0,1] = ',simps(psi_normal*psi_normal,x))\n",
        "plt.show()"
      ]
    },
    {
      "cell_type": "code",
      "source": [
        ""
      ],
      "metadata": {
        "id": "KnHEIs7uiX1y"
      },
      "execution_count": null,
      "outputs": []
    }
  ]
}